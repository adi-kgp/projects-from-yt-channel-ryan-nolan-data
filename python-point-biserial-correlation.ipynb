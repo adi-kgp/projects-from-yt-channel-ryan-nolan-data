{
 "cells": [
  {
   "cell_type": "markdown",
   "id": "787eee6a-0413-4d96-9bdb-4d335a988d73",
   "metadata": {},
   "source": [
    "## Python Point-Biserial Correlation"
   ]
  },
  {
   "cell_type": "code",
   "execution_count": 1,
   "id": "df1389bb-d000-442a-98a2-1f9dd227ab12",
   "metadata": {},
   "outputs": [],
   "source": [
    "import numpy as np\n",
    "import pandas as pd\n",
    "from scipy.stats import pointbiserialr"
   ]
  },
  {
   "cell_type": "code",
   "execution_count": 2,
   "id": "e77179a2-424a-46e4-b9ba-ee6a19fd212f",
   "metadata": {},
   "outputs": [],
   "source": [
    "binary_var = np.array([1, 0, 1, 1, 0, 1, 0, 1, 0, 0])"
   ]
  },
  {
   "cell_type": "code",
   "execution_count": 3,
   "id": "ee17f0c9-b9ca-4874-b744-b48db4077fd2",
   "metadata": {},
   "outputs": [],
   "source": [
    "continuous_var = np.array([85, 70, 90, 95, 60, 88, 55, 93, 58, 65])"
   ]
  },
  {
   "cell_type": "code",
   "execution_count": 4,
   "id": "5f225fe2-6322-43bb-8663-393b51ed9c1b",
   "metadata": {},
   "outputs": [],
   "source": [
    "mean_1 = np.mean(continuous_var[binary_var==1])"
   ]
  },
  {
   "cell_type": "code",
   "execution_count": 5,
   "id": "a69de120-a7f8-4e18-aade-bde541219059",
   "metadata": {},
   "outputs": [],
   "source": [
    "mean_0 = np.mean(continuous_var[binary_var==0])"
   ]
  },
  {
   "cell_type": "code",
   "execution_count": 6,
   "id": "e5f45af0-e42a-460a-9df8-e8be633cb9f8",
   "metadata": {},
   "outputs": [],
   "source": [
    "std_x = np.std(continuous_var, ddof=1)"
   ]
  },
  {
   "cell_type": "code",
   "execution_count": 10,
   "id": "82ce23f3-c2b4-435c-8bf0-2181f56c1816",
   "metadata": {},
   "outputs": [],
   "source": [
    "n_1 = np.sum(binary_var==1)"
   ]
  },
  {
   "cell_type": "code",
   "execution_count": 11,
   "id": "e3070a4a-3dc4-495c-9ba3-0eebe4b1e185",
   "metadata": {},
   "outputs": [],
   "source": [
    "n_0 = np.sum(binary_var==0)"
   ]
  },
  {
   "cell_type": "code",
   "execution_count": 12,
   "id": "50e78771-8c20-41b4-836d-ff879de3c2df",
   "metadata": {},
   "outputs": [],
   "source": [
    "n = len(binary_var)"
   ]
  },
  {
   "cell_type": "code",
   "execution_count": 13,
   "id": "a757e20c-8611-4d21-8509-4cb1056aae45",
   "metadata": {},
   "outputs": [],
   "source": [
    "r_pb = (mean_1 - mean_0) / std_x * np.sqrt(n_1 * n_0 / (n*(n-1)))"
   ]
  },
  {
   "cell_type": "code",
   "execution_count": 14,
   "id": "756b4d89-1fb3-4fb1-86e4-b02b16bba5e8",
   "metadata": {},
   "outputs": [
    {
     "name": "stdout",
     "output_type": "stream",
     "text": [
      "0.9535664558521106\n"
     ]
    }
   ],
   "source": [
    "print(r_pb)"
   ]
  },
  {
   "cell_type": "code",
   "execution_count": 15,
   "id": "7a34cc41-1e9e-4d5e-b6cd-76e4ef5dd5f1",
   "metadata": {},
   "outputs": [],
   "source": [
    "# Example 2 Scipy"
   ]
  },
  {
   "cell_type": "code",
   "execution_count": 16,
   "id": "516194c8-46e2-42fc-af55-53b76f9bad81",
   "metadata": {},
   "outputs": [],
   "source": [
    "r_pb_scipy, p_value = pointbiserialr(binary_var, continuous_var)"
   ]
  },
  {
   "cell_type": "code",
   "execution_count": 17,
   "id": "1052947e-44ca-478c-8cd8-512fb05dc3f4",
   "metadata": {},
   "outputs": [
    {
     "name": "stdout",
     "output_type": "stream",
     "text": [
      "0.9535664558521106\n"
     ]
    }
   ],
   "source": [
    "print(r_pb_scipy)"
   ]
  },
  {
   "cell_type": "code",
   "execution_count": 18,
   "id": "849777b3-78a7-4bd7-8567-d959ca2fda11",
   "metadata": {},
   "outputs": [],
   "source": [
    "# Example 3 Pandas"
   ]
  },
  {
   "cell_type": "code",
   "execution_count": 19,
   "id": "5e11c627-cf12-4131-ba5e-a81926097f45",
   "metadata": {},
   "outputs": [],
   "source": [
    "data = {\n",
    "    'completed_race': [1, 0, 1, 1, 0, 1, 0, 1, 0, 0],\n",
    "    'miles_per_week': [85, 70, 90, 95, 60, 88, 55, 93, 58, 65]\n",
    "}"
   ]
  },
  {
   "cell_type": "code",
   "execution_count": 20,
   "id": "aefb47ef-2afd-499c-8797-ab90cd7c28b8",
   "metadata": {},
   "outputs": [],
   "source": [
    "df = pd.DataFrame(data)"
   ]
  },
  {
   "cell_type": "code",
   "execution_count": 21,
   "id": "a5e87fe3-124f-41b2-91e7-095023c7e521",
   "metadata": {},
   "outputs": [
    {
     "data": {
      "text/html": [
       "<div>\n",
       "<style scoped>\n",
       "    .dataframe tbody tr th:only-of-type {\n",
       "        vertical-align: middle;\n",
       "    }\n",
       "\n",
       "    .dataframe tbody tr th {\n",
       "        vertical-align: top;\n",
       "    }\n",
       "\n",
       "    .dataframe thead th {\n",
       "        text-align: right;\n",
       "    }\n",
       "</style>\n",
       "<table border=\"1\" class=\"dataframe\">\n",
       "  <thead>\n",
       "    <tr style=\"text-align: right;\">\n",
       "      <th></th>\n",
       "      <th>completed_race</th>\n",
       "      <th>miles_per_week</th>\n",
       "    </tr>\n",
       "  </thead>\n",
       "  <tbody>\n",
       "    <tr>\n",
       "      <th>0</th>\n",
       "      <td>1</td>\n",
       "      <td>85</td>\n",
       "    </tr>\n",
       "    <tr>\n",
       "      <th>1</th>\n",
       "      <td>0</td>\n",
       "      <td>70</td>\n",
       "    </tr>\n",
       "    <tr>\n",
       "      <th>2</th>\n",
       "      <td>1</td>\n",
       "      <td>90</td>\n",
       "    </tr>\n",
       "    <tr>\n",
       "      <th>3</th>\n",
       "      <td>1</td>\n",
       "      <td>95</td>\n",
       "    </tr>\n",
       "    <tr>\n",
       "      <th>4</th>\n",
       "      <td>0</td>\n",
       "      <td>60</td>\n",
       "    </tr>\n",
       "    <tr>\n",
       "      <th>5</th>\n",
       "      <td>1</td>\n",
       "      <td>88</td>\n",
       "    </tr>\n",
       "    <tr>\n",
       "      <th>6</th>\n",
       "      <td>0</td>\n",
       "      <td>55</td>\n",
       "    </tr>\n",
       "    <tr>\n",
       "      <th>7</th>\n",
       "      <td>1</td>\n",
       "      <td>93</td>\n",
       "    </tr>\n",
       "    <tr>\n",
       "      <th>8</th>\n",
       "      <td>0</td>\n",
       "      <td>58</td>\n",
       "    </tr>\n",
       "    <tr>\n",
       "      <th>9</th>\n",
       "      <td>0</td>\n",
       "      <td>65</td>\n",
       "    </tr>\n",
       "  </tbody>\n",
       "</table>\n",
       "</div>"
      ],
      "text/plain": [
       "   completed_race  miles_per_week\n",
       "0               1              85\n",
       "1               0              70\n",
       "2               1              90\n",
       "3               1              95\n",
       "4               0              60\n",
       "5               1              88\n",
       "6               0              55\n",
       "7               1              93\n",
       "8               0              58\n",
       "9               0              65"
      ]
     },
     "execution_count": 21,
     "metadata": {},
     "output_type": "execute_result"
    }
   ],
   "source": [
    "df"
   ]
  },
  {
   "cell_type": "code",
   "execution_count": 22,
   "id": "8aafe4ef-1d8d-40ee-9640-98aaf8bc30b1",
   "metadata": {},
   "outputs": [],
   "source": [
    "r_pb_pandas = df['completed_race'].corr(df['miles_per_week'])"
   ]
  },
  {
   "cell_type": "code",
   "execution_count": 23,
   "id": "2df268ae-c4eb-403e-b41f-3d6837a6fd25",
   "metadata": {},
   "outputs": [
    {
     "name": "stdout",
     "output_type": "stream",
     "text": [
      "0.9535664558521105\n"
     ]
    }
   ],
   "source": [
    "print(r_pb_pandas)"
   ]
  },
  {
   "cell_type": "code",
   "execution_count": null,
   "id": "f61ba8e3-186e-4928-9612-481eec7dba82",
   "metadata": {},
   "outputs": [],
   "source": []
  }
 ],
 "metadata": {
  "kernelspec": {
   "display_name": "Python 3 (ipykernel)",
   "language": "python",
   "name": "python3"
  },
  "language_info": {
   "codemirror_mode": {
    "name": "ipython",
    "version": 3
   },
   "file_extension": ".py",
   "mimetype": "text/x-python",
   "name": "python",
   "nbconvert_exporter": "python",
   "pygments_lexer": "ipython3",
   "version": "3.12.7"
  }
 },
 "nbformat": 4,
 "nbformat_minor": 5
}
