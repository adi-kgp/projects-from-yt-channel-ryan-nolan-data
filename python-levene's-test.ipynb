{
 "cells": [
  {
   "cell_type": "markdown",
   "id": "25bf0e44-3a91-4328-8955-284a08436bac",
   "metadata": {},
   "source": [
    "## Python Levene's Test"
   ]
  },
  {
   "cell_type": "code",
   "execution_count": 1,
   "id": "624ee672-81fc-43d3-9043-7eac4475d587",
   "metadata": {},
   "outputs": [],
   "source": [
    "import scipy.stats as stats\n",
    "import numpy as np"
   ]
  },
  {
   "cell_type": "code",
   "execution_count": 2,
   "id": "745173ce-fabc-4329-846d-e7158cff5b50",
   "metadata": {},
   "outputs": [],
   "source": [
    "alpha = 0.05"
   ]
  },
  {
   "cell_type": "code",
   "execution_count": 3,
   "id": "0c861dab-0170-407a-9a79-087286aac284",
   "metadata": {},
   "outputs": [],
   "source": [
    "# Example 1\n",
    "# 100 m race times for college and pro athletes "
   ]
  },
  {
   "cell_type": "code",
   "execution_count": 4,
   "id": "ceca716c-6ec7-4a47-9bc0-3a9af9698c1d",
   "metadata": {},
   "outputs": [],
   "source": [
    "college_times = [10.5, 10.7, 10.8, 10.4, 10.6]"
   ]
  },
  {
   "cell_type": "code",
   "execution_count": 5,
   "id": "f9fe727e-8da8-43d4-9171-0dd035ede7cf",
   "metadata": {},
   "outputs": [],
   "source": [
    "pro_times = [9.9, 9.8, 9.7, 10, 9.9]"
   ]
  },
  {
   "cell_type": "code",
   "execution_count": 6,
   "id": "39a118e8-1288-4572-af51-edbef7900874",
   "metadata": {},
   "outputs": [],
   "source": [
    "#calc the means"
   ]
  },
  {
   "cell_type": "code",
   "execution_count": 7,
   "id": "214983bd-8fbf-4ca8-b60b-74b9d97f99d3",
   "metadata": {},
   "outputs": [],
   "source": [
    "college_mean = np.mean(college_times)"
   ]
  },
  {
   "cell_type": "code",
   "execution_count": 8,
   "id": "acf011a2-36fc-4a62-a10d-6265e4bb1115",
   "metadata": {},
   "outputs": [],
   "source": [
    "pro_mean = np.mean(pro_times)"
   ]
  },
  {
   "cell_type": "code",
   "execution_count": 9,
   "id": "acef328d-b305-446a-9f03-2527c2a98a43",
   "metadata": {},
   "outputs": [
    {
     "name": "stdout",
     "output_type": "stream",
     "text": [
      "9.860000000000001\n"
     ]
    }
   ],
   "source": [
    "print(pro_mean)"
   ]
  },
  {
   "cell_type": "code",
   "execution_count": 10,
   "id": "a8226964-2db9-4c3f-aa1c-63251e5574d2",
   "metadata": {},
   "outputs": [
    {
     "name": "stdout",
     "output_type": "stream",
     "text": [
      "10.6\n"
     ]
    }
   ],
   "source": [
    "print(college_mean)"
   ]
  },
  {
   "cell_type": "code",
   "execution_count": 11,
   "id": "012d84d0-57d9-4d55-9028-a7664a0e3f17",
   "metadata": {},
   "outputs": [],
   "source": [
    "#calc abs deviations"
   ]
  },
  {
   "cell_type": "code",
   "execution_count": 12,
   "id": "24e643ae-ffce-41d9-a590-bdb18bb7ad0d",
   "metadata": {},
   "outputs": [],
   "source": [
    "college_abs_deviations = np.abs(college_times - college_mean)"
   ]
  },
  {
   "cell_type": "code",
   "execution_count": 13,
   "id": "09b04c88-95f3-4b20-9833-599af5e74da1",
   "metadata": {},
   "outputs": [
    {
     "name": "stdout",
     "output_type": "stream",
     "text": [
      "[0.1 0.1 0.2 0.2 0. ]\n"
     ]
    }
   ],
   "source": [
    "print(college_abs_deviations)"
   ]
  },
  {
   "cell_type": "code",
   "execution_count": 14,
   "id": "af9ef2ef-29e3-42de-951f-f33221c1bd4a",
   "metadata": {},
   "outputs": [],
   "source": [
    "pro_abs_deviations = np.abs(pro_times - pro_mean)"
   ]
  },
  {
   "cell_type": "code",
   "execution_count": 15,
   "id": "44c913f5-eb9a-4cfb-acd3-35db53d4f929",
   "metadata": {},
   "outputs": [
    {
     "name": "stdout",
     "output_type": "stream",
     "text": [
      "[0.04 0.06 0.16 0.14 0.04]\n"
     ]
    }
   ],
   "source": [
    "print(pro_abs_deviations)"
   ]
  },
  {
   "cell_type": "code",
   "execution_count": 16,
   "id": "bfdad36d-3691-40b1-99fe-e7b9873859b7",
   "metadata": {},
   "outputs": [],
   "source": [
    "#calc mean abs deviations"
   ]
  },
  {
   "cell_type": "code",
   "execution_count": 17,
   "id": "37dce835-c7ed-46fb-a1f2-1c7777dbc9e6",
   "metadata": {},
   "outputs": [],
   "source": [
    "college_mean_deviations = np.mean(college_abs_deviations)"
   ]
  },
  {
   "cell_type": "code",
   "execution_count": 18,
   "id": "cb1ea5e8-d96f-4101-87bd-45f55d2c4b3f",
   "metadata": {},
   "outputs": [
    {
     "name": "stdout",
     "output_type": "stream",
     "text": [
      "0.11999999999999993\n"
     ]
    }
   ],
   "source": [
    "print(college_mean_deviations)"
   ]
  },
  {
   "cell_type": "code",
   "execution_count": 19,
   "id": "b9c70046-65cc-45a1-a9bd-fdbc635374ad",
   "metadata": {},
   "outputs": [],
   "source": [
    "pro_mean_deviations = np.mean(pro_abs_deviations)"
   ]
  },
  {
   "cell_type": "code",
   "execution_count": 20,
   "id": "f2057e7d-ca91-43f6-b4df-e2ddb7e2a8c3",
   "metadata": {},
   "outputs": [
    {
     "name": "stdout",
     "output_type": "stream",
     "text": [
      "0.0879999999999999\n"
     ]
    }
   ],
   "source": [
    "print(pro_mean_deviations)"
   ]
  },
  {
   "cell_type": "code",
   "execution_count": 21,
   "id": "c42a207e-ddfa-424d-a734-fa86562630c0",
   "metadata": {},
   "outputs": [],
   "source": [
    "# Calc sum of squared deviations"
   ]
  },
  {
   "cell_type": "code",
   "execution_count": 43,
   "id": "04121df3-37d3-4822-88ad-28a46d4a1f72",
   "metadata": {},
   "outputs": [
    {
     "name": "stdout",
     "output_type": "stream",
     "text": [
      "0.028000000000000084\n"
     ]
    }
   ],
   "source": [
    "college_squares_deviations = np.sum((college_abs_deviations - college_mean_deviations)**2)\n",
    "print(college_squares_deviations)"
   ]
  },
  {
   "cell_type": "code",
   "execution_count": 44,
   "id": "c714c662-00ef-4ab7-8b0b-e82bd04a776b",
   "metadata": {},
   "outputs": [
    {
     "name": "stdout",
     "output_type": "stream",
     "text": [
      "0.013280000000000286\n"
     ]
    }
   ],
   "source": [
    "pro_squares_deviations = np.sum((pro_abs_deviations - pro_mean_deviations)**2)\n",
    "print(pro_squared_deviations)"
   ]
  },
  {
   "cell_type": "code",
   "execution_count": 24,
   "id": "fce30f2f-673a-4c9d-86d2-8b7065e1d296",
   "metadata": {},
   "outputs": [],
   "source": [
    "# Total squared deviations"
   ]
  },
  {
   "cell_type": "code",
   "execution_count": 45,
   "id": "f8b3c9bc-30f0-43fd-a4d3-3946f60e5572",
   "metadata": {},
   "outputs": [],
   "source": [
    "total_squares_deviations = college_squares_deviations + pro_squares_deviations"
   ]
  },
  {
   "cell_type": "code",
   "execution_count": 26,
   "id": "81a39338-7d38-4352-85c1-f39958eea23a",
   "metadata": {},
   "outputs": [],
   "source": [
    "# Total observations"
   ]
  },
  {
   "cell_type": "code",
   "execution_count": 46,
   "id": "0123896f-f0cf-42d3-9d26-87c306ec51c0",
   "metadata": {},
   "outputs": [],
   "source": [
    "N = len(college_times) + len(pro_times)"
   ]
  },
  {
   "cell_type": "code",
   "execution_count": 47,
   "id": "a52940c4-e962-469c-8ebc-7bdbdbf4c2c8",
   "metadata": {},
   "outputs": [],
   "source": [
    "k = 2"
   ]
  },
  {
   "cell_type": "code",
   "execution_count": 48,
   "id": "544a147d-cd8e-477b-bc70-d8735b574e2f",
   "metadata": {},
   "outputs": [],
   "source": [
    "# degrees of freedom"
   ]
  },
  {
   "cell_type": "code",
   "execution_count": 49,
   "id": "1537b28d-669f-40f6-a909-caf593a5656c",
   "metadata": {},
   "outputs": [],
   "source": [
    "df_between = k - 1"
   ]
  },
  {
   "cell_type": "code",
   "execution_count": 50,
   "id": "d05c8f84-8873-43db-8ccf-f5a91ef26c46",
   "metadata": {},
   "outputs": [
    {
     "name": "stdout",
     "output_type": "stream",
     "text": [
      "1\n"
     ]
    }
   ],
   "source": [
    "print(df_between)"
   ]
  },
  {
   "cell_type": "code",
   "execution_count": 51,
   "id": "f7c41753-dbed-41ec-8fb2-02e0ba48cf8c",
   "metadata": {},
   "outputs": [],
   "source": [
    "df_within = N - k"
   ]
  },
  {
   "cell_type": "code",
   "execution_count": 52,
   "id": "35d901d2-4d44-4233-b90e-2ab093dbb184",
   "metadata": {},
   "outputs": [
    {
     "name": "stdout",
     "output_type": "stream",
     "text": [
      "8\n"
     ]
    }
   ],
   "source": [
    "print(df_within)"
   ]
  },
  {
   "cell_type": "code",
   "execution_count": 53,
   "id": "503b0611-f264-4fe7-9c74-42e71651b020",
   "metadata": {},
   "outputs": [],
   "source": [
    "# Between group sum of squares "
   ]
  },
  {
   "cell_type": "code",
   "execution_count": 54,
   "id": "1742f6a5-d7e5-4adf-8dda-c69faca3ef5d",
   "metadata": {},
   "outputs": [],
   "source": [
    "Z_grand_mean = np.mean(np.concatenate([college_abs_deviations, pro_abs_deviations]))"
   ]
  },
  {
   "cell_type": "code",
   "execution_count": 55,
   "id": "dbaab234-b95a-4e38-a138-b6b4324faa8e",
   "metadata": {},
   "outputs": [
    {
     "name": "stdout",
     "output_type": "stream",
     "text": [
      "0.10399999999999991\n"
     ]
    }
   ],
   "source": [
    "print(Z_grand_mean)"
   ]
  },
  {
   "cell_type": "code",
   "execution_count": 56,
   "id": "578d1ef0-d7d5-4742-89c5-18a9a7bd2ed7",
   "metadata": {},
   "outputs": [],
   "source": [
    "sum_squares_between = len(college_times) * (college_mean_deviations - Z_grand_mean)**2 + len(pro_times) * (pro_mean_deviations - Z_grand_mean)**2"
   ]
  },
  {
   "cell_type": "code",
   "execution_count": 57,
   "id": "11b75e0a-a7f1-4567-a6ff-8a5050cbcdfa",
   "metadata": {},
   "outputs": [
    {
     "name": "stdout",
     "output_type": "stream",
     "text": [
      "0.002560000000000005\n"
     ]
    }
   ],
   "source": [
    "print(sum_squares_between)"
   ]
  },
  {
   "cell_type": "code",
   "execution_count": 58,
   "id": "647d63f4-5166-47e9-b01c-7753401df07b",
   "metadata": {},
   "outputs": [],
   "source": [
    "# Calculate formula"
   ]
  },
  {
   "cell_type": "code",
   "execution_count": 59,
   "id": "61cc31ab-a677-4f8c-a22b-6ae9f412b07e",
   "metadata": {},
   "outputs": [],
   "source": [
    "w = (df_within * sum_squares_between) / (df_between * total_squares_deviations)"
   ]
  },
  {
   "cell_type": "code",
   "execution_count": 60,
   "id": "e916ef94-7f41-4b19-9526-ca8bfe978df0",
   "metadata": {},
   "outputs": [
    {
     "name": "stdout",
     "output_type": "stream",
     "text": [
      "0.49612403100774843\n"
     ]
    }
   ],
   "source": [
    "print(w)"
   ]
  },
  {
   "cell_type": "code",
   "execution_count": 61,
   "id": "9707f28e-364b-4a68-b368-d272d9293ed4",
   "metadata": {},
   "outputs": [],
   "source": [
    "# Find p value"
   ]
  },
  {
   "cell_type": "code",
   "execution_count": 62,
   "id": "c686a0c2-ece7-4d8d-a1d2-189a440d97a7",
   "metadata": {},
   "outputs": [],
   "source": [
    "p_value_manual = 1 - stats.f.cdf(w, df_between, df_within)"
   ]
  },
  {
   "cell_type": "code",
   "execution_count": 63,
   "id": "2f045e63-06fe-4a8f-8f93-dd10088f9fd3",
   "metadata": {},
   "outputs": [
    {
     "name": "stdout",
     "output_type": "stream",
     "text": [
      "0.5011942660391169\n"
     ]
    }
   ],
   "source": [
    "print(p_value_manual)"
   ]
  },
  {
   "cell_type": "code",
   "execution_count": 64,
   "id": "f1275119-127a-4cec-ac74-ec31a43cae15",
   "metadata": {},
   "outputs": [],
   "source": [
    "# Analyze p value"
   ]
  },
  {
   "cell_type": "code",
   "execution_count": 65,
   "id": "2a6ea804-a20e-44fd-927a-418fb37dc274",
   "metadata": {},
   "outputs": [
    {
     "name": "stdout",
     "output_type": "stream",
     "text": [
      "Fail to Reject Null Hypothesis, same variances\n"
     ]
    }
   ],
   "source": [
    "if p_value_manual < alpha:\n",
    "    print(\"Reject Null Hypothesis, different variances\")\n",
    "else:\n",
    "    print(\"Fail to Reject Null Hypothesis, same variances\")"
   ]
  },
  {
   "cell_type": "code",
   "execution_count": 66,
   "id": "87e93605-134c-4347-9292-b079791f3f49",
   "metadata": {},
   "outputs": [],
   "source": [
    "# Example 2 - Slayer vs Metallica Ticket Sales"
   ]
  },
  {
   "cell_type": "code",
   "execution_count": 67,
   "id": "60a91b72-ed96-4ae3-bf15-84bb335c9dbf",
   "metadata": {},
   "outputs": [],
   "source": [
    "slayer_sales = [20, 18, 22, 19, 21]"
   ]
  },
  {
   "cell_type": "code",
   "execution_count": 68,
   "id": "f4ada81a-ef97-46dd-87cc-5b78a027966a",
   "metadata": {},
   "outputs": [],
   "source": [
    "metallica_sales = [28, 30, 27, 29, 31]"
   ]
  },
  {
   "cell_type": "code",
   "execution_count": 69,
   "id": "8d9ecdce-cc97-4ef3-81e2-7ea3a61927c9",
   "metadata": {},
   "outputs": [],
   "source": [
    "w, p_value = stats.levene(slayer_sales, metallica_sales, center='median')"
   ]
  },
  {
   "cell_type": "code",
   "execution_count": 70,
   "id": "04866b70-175b-4f99-ab78-a38d0598eaa2",
   "metadata": {},
   "outputs": [
    {
     "name": "stdout",
     "output_type": "stream",
     "text": [
      "0.0\n"
     ]
    }
   ],
   "source": [
    "print(w)"
   ]
  },
  {
   "cell_type": "code",
   "execution_count": 71,
   "id": "7054c74e-ca9b-4eab-820a-1053b5399784",
   "metadata": {},
   "outputs": [
    {
     "name": "stdout",
     "output_type": "stream",
     "text": [
      "1.0\n"
     ]
    }
   ],
   "source": [
    "print(p_value)"
   ]
  },
  {
   "cell_type": "code",
   "execution_count": 73,
   "id": "6c1b314b-0550-4759-89fa-679910b352f8",
   "metadata": {},
   "outputs": [
    {
     "name": "stdout",
     "output_type": "stream",
     "text": [
      "Fail to Reject Null Hypothesis, same variances\n"
     ]
    }
   ],
   "source": [
    "if p_value < alpha:\n",
    "    print(\"Reject Null Hypothesis, different variances\")\n",
    "else:\n",
    "    print(\"Fail to Reject Null Hypothesis, same variances\")"
   ]
  },
  {
   "cell_type": "code",
   "execution_count": 74,
   "id": "6d45ad9c-587f-47d5-8a37-d395572e6bad",
   "metadata": {},
   "outputs": [],
   "source": [
    "# Example 3 - 3 bands looking at the mean\n",
    "gojira_sales = [7000, 11000, 2500, 9000, 3000]"
   ]
  },
  {
   "cell_type": "code",
   "execution_count": 75,
   "id": "0e0756e1-04d5-44a5-bece-a4821b2556f4",
   "metadata": {},
   "outputs": [],
   "source": [
    "mastodon_sales = [3000, 4000, 1500, 4000, 2000]"
   ]
  },
  {
   "cell_type": "code",
   "execution_count": 76,
   "id": "3413cc42-8a2e-44fb-b87f-af13a4d8ddd6",
   "metadata": {},
   "outputs": [],
   "source": [
    "opeth_sales = [2000, 1000, 2500, 3000, 1500]"
   ]
  },
  {
   "cell_type": "code",
   "execution_count": 77,
   "id": "732e4daa-814b-4e7b-860f-61cb5e1562fd",
   "metadata": {},
   "outputs": [],
   "source": [
    "w, p_value = stats.levene(gojira_sales, mastodon_sales, opeth_sales, center='mean')"
   ]
  },
  {
   "cell_type": "code",
   "execution_count": 78,
   "id": "1c6ac910-36ec-4c1b-b7bb-6500267fad21",
   "metadata": {},
   "outputs": [
    {
     "name": "stdout",
     "output_type": "stream",
     "text": [
      "8.732259170380528\n"
     ]
    }
   ],
   "source": [
    "print(w)"
   ]
  },
  {
   "cell_type": "code",
   "execution_count": 79,
   "id": "14fd6fb7-cc6c-460b-a452-ae4e59cb221d",
   "metadata": {},
   "outputs": [
    {
     "name": "stdout",
     "output_type": "stream",
     "text": [
      "0.004563430072911574\n"
     ]
    }
   ],
   "source": [
    "print(p_value)"
   ]
  },
  {
   "cell_type": "code",
   "execution_count": 80,
   "id": "5fad9bb7-6be6-40f7-be28-ae8f6bf387b0",
   "metadata": {},
   "outputs": [
    {
     "name": "stdout",
     "output_type": "stream",
     "text": [
      "Reject Null Hypothesis, different variances\n"
     ]
    }
   ],
   "source": [
    "if p_value < alpha:\n",
    "    print(\"Reject Null Hypothesis, different variances\")\n",
    "else:\n",
    "    print(\"Fail to Reject Null Hypothesis, same variances\")"
   ]
  },
  {
   "cell_type": "code",
   "execution_count": null,
   "id": "d5136ac6-de54-441d-a0ae-4eff6db25c57",
   "metadata": {},
   "outputs": [],
   "source": []
  }
 ],
 "metadata": {
  "kernelspec": {
   "display_name": "Python 3 (ipykernel)",
   "language": "python",
   "name": "python3"
  },
  "language_info": {
   "codemirror_mode": {
    "name": "ipython",
    "version": 3
   },
   "file_extension": ".py",
   "mimetype": "text/x-python",
   "name": "python",
   "nbconvert_exporter": "python",
   "pygments_lexer": "ipython3",
   "version": "3.12.7"
  }
 },
 "nbformat": 4,
 "nbformat_minor": 5
}
