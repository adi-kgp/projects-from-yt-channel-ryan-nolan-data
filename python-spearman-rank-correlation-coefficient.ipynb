{
 "cells": [
  {
   "cell_type": "markdown",
   "id": "dfb35f97-8ced-4e93-b191-bfbf2a029c63",
   "metadata": {},
   "source": [
    "## Python Spearman's Rank Correlation Coefficient"
   ]
  },
  {
   "cell_type": "code",
   "execution_count": 1,
   "id": "5dbd0dcc-9187-4510-8e55-9e4124329cfd",
   "metadata": {},
   "outputs": [],
   "source": [
    "import numpy as np\n",
    "import pandas as pd\n",
    "from scipy import stats"
   ]
  },
  {
   "cell_type": "markdown",
   "id": "528074e9-a8ac-48f9-9e89-a0d53cf181c8",
   "metadata": {},
   "source": [
    "Example 1 Manual Calculation"
   ]
  },
  {
   "cell_type": "code",
   "execution_count": 2,
   "id": "909dd5bd-b22e-4a01-836d-14286358416d",
   "metadata": {},
   "outputs": [],
   "source": [
    "hits = np.array([150, 180, 120, 210, 160])"
   ]
  },
  {
   "cell_type": "code",
   "execution_count": 3,
   "id": "cf523f95-b488-48cb-bb0f-88763746f859",
   "metadata": {},
   "outputs": [],
   "source": [
    "rbis = np.array([75, 90, 50, 110, 85])"
   ]
  },
  {
   "cell_type": "code",
   "execution_count": 4,
   "id": "4c51c2f1-59c3-400e-900c-e2e3f9bf9908",
   "metadata": {},
   "outputs": [],
   "source": [
    "hits_rank = stats.rankdata(hits)"
   ]
  },
  {
   "cell_type": "code",
   "execution_count": 5,
   "id": "a7df3461-7d09-462f-a764-772388d34468",
   "metadata": {},
   "outputs": [
    {
     "name": "stdout",
     "output_type": "stream",
     "text": [
      "[2. 4. 1. 5. 3.]\n"
     ]
    }
   ],
   "source": [
    "print(hits_rank)"
   ]
  },
  {
   "cell_type": "code",
   "execution_count": 6,
   "id": "1892f290-62e0-4b2c-a039-7ed23ceaa29b",
   "metadata": {},
   "outputs": [],
   "source": [
    "rbis_rank = stats.rankdata(rbis)"
   ]
  },
  {
   "cell_type": "code",
   "execution_count": 7,
   "id": "aa607195-3152-467e-99ee-ec7c86ec5e17",
   "metadata": {},
   "outputs": [
    {
     "name": "stdout",
     "output_type": "stream",
     "text": [
      "[2. 4. 1. 5. 3.]\n"
     ]
    }
   ],
   "source": [
    "print(rbis_rank)"
   ]
  },
  {
   "cell_type": "code",
   "execution_count": 8,
   "id": "615b817f-0146-4a39-ad66-34d2528d38d3",
   "metadata": {},
   "outputs": [],
   "source": [
    "d = hits_rank - rbis_rank"
   ]
  },
  {
   "cell_type": "code",
   "execution_count": 9,
   "id": "5ac3789e-5226-433b-b853-53ca96641299",
   "metadata": {},
   "outputs": [],
   "source": [
    "n = len(hits)"
   ]
  },
  {
   "cell_type": "code",
   "execution_count": 10,
   "id": "d29666ed-1647-4d23-b76a-f2f1d2fe22e6",
   "metadata": {},
   "outputs": [],
   "source": [
    "d_squared = d ** 2"
   ]
  },
  {
   "cell_type": "code",
   "execution_count": 11,
   "id": "a88c2fca-9c53-4454-9665-5c90567c8d57",
   "metadata": {},
   "outputs": [],
   "source": [
    "spearman_rank_manual =  1 - (6 * np.sum(d_squared)) / (n * (n**2 - 1))"
   ]
  },
  {
   "cell_type": "code",
   "execution_count": 12,
   "id": "2cf06534-da9e-400f-a585-701ddfc880e6",
   "metadata": {},
   "outputs": [
    {
     "name": "stdout",
     "output_type": "stream",
     "text": [
      "1.0\n"
     ]
    }
   ],
   "source": [
    "print(spearman_rank_manual)"
   ]
  },
  {
   "cell_type": "markdown",
   "id": "ba1673a5-ed92-4a54-b3ca-a6ca668fa7ca",
   "metadata": {},
   "source": [
    "Example 2: Scipy Example"
   ]
  },
  {
   "cell_type": "code",
   "execution_count": 13,
   "id": "1785d55c-fd3c-4b1d-b27a-e85f33dbf9d1",
   "metadata": {},
   "outputs": [],
   "source": [
    "spearman_rank_scipy, p_value = stats.spearmanr(hits, rbis)"
   ]
  },
  {
   "cell_type": "code",
   "execution_count": 14,
   "id": "cd8fe06a-7edb-4bca-97fe-938fb4f3b65e",
   "metadata": {},
   "outputs": [
    {
     "name": "stdout",
     "output_type": "stream",
     "text": [
      "0.9999999999999999\n"
     ]
    }
   ],
   "source": [
    "print(spearman_rank_scipy)"
   ]
  },
  {
   "cell_type": "markdown",
   "id": "e4bf5ad6-6aad-40f3-9d82-ecee7eb9ece2",
   "metadata": {},
   "source": [
    "Example 3: Ordinal Data"
   ]
  },
  {
   "cell_type": "code",
   "execution_count": 15,
   "id": "71bfc4f3-15c5-4de6-abf8-0bc0ca4128cf",
   "metadata": {},
   "outputs": [],
   "source": [
    "data = {\n",
    "    'Hours_studied': [10, 15, 5, 18],\n",
    "    'Grades': ['C', 'A', 'D', 'B']\n",
    "}"
   ]
  },
  {
   "cell_type": "code",
   "execution_count": 16,
   "id": "6f67ba03-81a5-494b-a4a6-93a6ca3ae752",
   "metadata": {},
   "outputs": [
    {
     "data": {
      "text/html": [
       "<div>\n",
       "<style scoped>\n",
       "    .dataframe tbody tr th:only-of-type {\n",
       "        vertical-align: middle;\n",
       "    }\n",
       "\n",
       "    .dataframe tbody tr th {\n",
       "        vertical-align: top;\n",
       "    }\n",
       "\n",
       "    .dataframe thead th {\n",
       "        text-align: right;\n",
       "    }\n",
       "</style>\n",
       "<table border=\"1\" class=\"dataframe\">\n",
       "  <thead>\n",
       "    <tr style=\"text-align: right;\">\n",
       "      <th></th>\n",
       "      <th>Hours_studied</th>\n",
       "      <th>Grades</th>\n",
       "    </tr>\n",
       "  </thead>\n",
       "  <tbody>\n",
       "    <tr>\n",
       "      <th>0</th>\n",
       "      <td>10</td>\n",
       "      <td>C</td>\n",
       "    </tr>\n",
       "    <tr>\n",
       "      <th>1</th>\n",
       "      <td>15</td>\n",
       "      <td>A</td>\n",
       "    </tr>\n",
       "    <tr>\n",
       "      <th>2</th>\n",
       "      <td>5</td>\n",
       "      <td>D</td>\n",
       "    </tr>\n",
       "    <tr>\n",
       "      <th>3</th>\n",
       "      <td>18</td>\n",
       "      <td>B</td>\n",
       "    </tr>\n",
       "  </tbody>\n",
       "</table>\n",
       "</div>"
      ],
      "text/plain": [
       "   Hours_studied Grades\n",
       "0             10      C\n",
       "1             15      A\n",
       "2              5      D\n",
       "3             18      B"
      ]
     },
     "execution_count": 16,
     "metadata": {},
     "output_type": "execute_result"
    }
   ],
   "source": [
    "df = pd.DataFrame(data)\n",
    "df"
   ]
  },
  {
   "cell_type": "code",
   "execution_count": 17,
   "id": "b35e0f77-3c70-46ee-a3af-144307f15070",
   "metadata": {},
   "outputs": [],
   "source": [
    "grade_mapping = {'A': 4, 'B': 3, 'C':2, 'D': 1}"
   ]
  },
  {
   "cell_type": "code",
   "execution_count": 18,
   "id": "41b02f84-7ee0-4581-8d51-bc1727113101",
   "metadata": {},
   "outputs": [],
   "source": [
    "df['Grades_Ordinal'] = df['Grades'].map(grade_mapping)"
   ]
  },
  {
   "cell_type": "code",
   "execution_count": 19,
   "id": "8bf3bf72-f779-432e-b3b0-6e7ce552cc57",
   "metadata": {},
   "outputs": [
    {
     "data": {
      "text/html": [
       "<div>\n",
       "<style scoped>\n",
       "    .dataframe tbody tr th:only-of-type {\n",
       "        vertical-align: middle;\n",
       "    }\n",
       "\n",
       "    .dataframe tbody tr th {\n",
       "        vertical-align: top;\n",
       "    }\n",
       "\n",
       "    .dataframe thead th {\n",
       "        text-align: right;\n",
       "    }\n",
       "</style>\n",
       "<table border=\"1\" class=\"dataframe\">\n",
       "  <thead>\n",
       "    <tr style=\"text-align: right;\">\n",
       "      <th></th>\n",
       "      <th>Hours_studied</th>\n",
       "      <th>Grades</th>\n",
       "      <th>Grades_Ordinal</th>\n",
       "    </tr>\n",
       "  </thead>\n",
       "  <tbody>\n",
       "    <tr>\n",
       "      <th>0</th>\n",
       "      <td>10</td>\n",
       "      <td>C</td>\n",
       "      <td>2</td>\n",
       "    </tr>\n",
       "    <tr>\n",
       "      <th>1</th>\n",
       "      <td>15</td>\n",
       "      <td>A</td>\n",
       "      <td>4</td>\n",
       "    </tr>\n",
       "    <tr>\n",
       "      <th>2</th>\n",
       "      <td>5</td>\n",
       "      <td>D</td>\n",
       "      <td>1</td>\n",
       "    </tr>\n",
       "    <tr>\n",
       "      <th>3</th>\n",
       "      <td>18</td>\n",
       "      <td>B</td>\n",
       "      <td>3</td>\n",
       "    </tr>\n",
       "  </tbody>\n",
       "</table>\n",
       "</div>"
      ],
      "text/plain": [
       "   Hours_studied Grades  Grades_Ordinal\n",
       "0             10      C               2\n",
       "1             15      A               4\n",
       "2              5      D               1\n",
       "3             18      B               3"
      ]
     },
     "execution_count": 19,
     "metadata": {},
     "output_type": "execute_result"
    }
   ],
   "source": [
    "df"
   ]
  },
  {
   "cell_type": "code",
   "execution_count": 20,
   "id": "31d490dd-2658-4aee-91a0-0748358d894b",
   "metadata": {},
   "outputs": [],
   "source": [
    "df['Hours_Rank'] = df['Hours_studied'].rank()"
   ]
  },
  {
   "cell_type": "code",
   "execution_count": 21,
   "id": "c40c3f43-54df-41b0-8e98-333b7a24772f",
   "metadata": {},
   "outputs": [],
   "source": [
    "df['Grades_Rank'] = df['Grades_Ordinal'].rank()"
   ]
  },
  {
   "cell_type": "code",
   "execution_count": 22,
   "id": "c3e36a19-8bbd-426e-8b80-884a3e417681",
   "metadata": {},
   "outputs": [
    {
     "data": {
      "text/html": [
       "<div>\n",
       "<style scoped>\n",
       "    .dataframe tbody tr th:only-of-type {\n",
       "        vertical-align: middle;\n",
       "    }\n",
       "\n",
       "    .dataframe tbody tr th {\n",
       "        vertical-align: top;\n",
       "    }\n",
       "\n",
       "    .dataframe thead th {\n",
       "        text-align: right;\n",
       "    }\n",
       "</style>\n",
       "<table border=\"1\" class=\"dataframe\">\n",
       "  <thead>\n",
       "    <tr style=\"text-align: right;\">\n",
       "      <th></th>\n",
       "      <th>Hours_studied</th>\n",
       "      <th>Grades</th>\n",
       "      <th>Grades_Ordinal</th>\n",
       "      <th>Hours_Rank</th>\n",
       "      <th>Grades_Rank</th>\n",
       "    </tr>\n",
       "  </thead>\n",
       "  <tbody>\n",
       "    <tr>\n",
       "      <th>0</th>\n",
       "      <td>10</td>\n",
       "      <td>C</td>\n",
       "      <td>2</td>\n",
       "      <td>2.0</td>\n",
       "      <td>2.0</td>\n",
       "    </tr>\n",
       "    <tr>\n",
       "      <th>1</th>\n",
       "      <td>15</td>\n",
       "      <td>A</td>\n",
       "      <td>4</td>\n",
       "      <td>3.0</td>\n",
       "      <td>4.0</td>\n",
       "    </tr>\n",
       "    <tr>\n",
       "      <th>2</th>\n",
       "      <td>5</td>\n",
       "      <td>D</td>\n",
       "      <td>1</td>\n",
       "      <td>1.0</td>\n",
       "      <td>1.0</td>\n",
       "    </tr>\n",
       "    <tr>\n",
       "      <th>3</th>\n",
       "      <td>18</td>\n",
       "      <td>B</td>\n",
       "      <td>3</td>\n",
       "      <td>4.0</td>\n",
       "      <td>3.0</td>\n",
       "    </tr>\n",
       "  </tbody>\n",
       "</table>\n",
       "</div>"
      ],
      "text/plain": [
       "   Hours_studied Grades  Grades_Ordinal  Hours_Rank  Grades_Rank\n",
       "0             10      C               2         2.0          2.0\n",
       "1             15      A               4         3.0          4.0\n",
       "2              5      D               1         1.0          1.0\n",
       "3             18      B               3         4.0          3.0"
      ]
     },
     "execution_count": 22,
     "metadata": {},
     "output_type": "execute_result"
    }
   ],
   "source": [
    "df"
   ]
  },
  {
   "cell_type": "code",
   "execution_count": 23,
   "id": "4d76ae35-3cd4-4116-b0ad-55ff14b78cce",
   "metadata": {},
   "outputs": [
    {
     "name": "stdout",
     "output_type": "stream",
     "text": [
      "Hours_Rank     1.0\n",
      "Grades_Rank    0.8\n",
      "Name: Hours_Rank, dtype: float64\n"
     ]
    }
   ],
   "source": [
    "# spearman calculation\n",
    "spearman_rank_pandas = df[['Hours_Rank', 'Grades_Rank']].corr(method='spearman').iloc[0]\n",
    "print(spearman_rank_pandas)"
   ]
  },
  {
   "cell_type": "code",
   "execution_count": null,
   "id": "378602c2-6cc2-4f9c-8df2-edab8c264ee0",
   "metadata": {},
   "outputs": [],
   "source": []
  }
 ],
 "metadata": {
  "kernelspec": {
   "display_name": "Python 3 (ipykernel)",
   "language": "python",
   "name": "python3"
  },
  "language_info": {
   "codemirror_mode": {
    "name": "ipython",
    "version": 3
   },
   "file_extension": ".py",
   "mimetype": "text/x-python",
   "name": "python",
   "nbconvert_exporter": "python",
   "pygments_lexer": "ipython3",
   "version": "3.12.7"
  }
 },
 "nbformat": 4,
 "nbformat_minor": 5
}
