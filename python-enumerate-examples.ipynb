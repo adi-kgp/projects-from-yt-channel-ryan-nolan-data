{
 "cells": [
  {
   "cell_type": "markdown",
   "id": "eb1967c3-89c0-4a95-808a-f452e6e947ad",
   "metadata": {},
   "source": [
    "## Python Enumerate (10 Examples)"
   ]
  },
  {
   "cell_type": "code",
   "execution_count": 1,
   "id": "31bf35b3-028c-4bfe-b02f-0f6384444c1a",
   "metadata": {},
   "outputs": [],
   "source": [
    "# Example 1 Enumerate"
   ]
  },
  {
   "cell_type": "code",
   "execution_count": 2,
   "id": "6e6b50c8-5471-4f46-9257-2677633a13e3",
   "metadata": {},
   "outputs": [],
   "source": [
    "sports = ['ultra running', 'cricket', 'baseball']"
   ]
  },
  {
   "cell_type": "code",
   "execution_count": 3,
   "id": "ef6a0ed5-44f4-4a00-b9e1-9cef33f462a5",
   "metadata": {},
   "outputs": [
    {
     "name": "stdout",
     "output_type": "stream",
     "text": [
      "0 ultra running\n",
      "1 cricket\n",
      "2 baseball\n"
     ]
    }
   ],
   "source": [
    "for index, sport in enumerate(sports):\n",
    "    print(index, sport)"
   ]
  },
  {
   "cell_type": "code",
   "execution_count": 4,
   "id": "d8f39ab8-07b6-46bd-9aa6-64d740f039c8",
   "metadata": {},
   "outputs": [],
   "source": [
    "# Example 2 Enumerate List start with 1"
   ]
  },
  {
   "cell_type": "code",
   "execution_count": 5,
   "id": "03823d0d-5089-4568-a889-c2091adc04d1",
   "metadata": {},
   "outputs": [
    {
     "name": "stdout",
     "output_type": "stream",
     "text": [
      "1 ultra running\n",
      "2 cricket\n",
      "3 baseball\n"
     ]
    }
   ],
   "source": [
    "for index, sport in enumerate(sports, start = 1):\n",
    "    print(index, sport)"
   ]
  },
  {
   "cell_type": "code",
   "execution_count": 6,
   "id": "6a8869a1-3211-40e1-b3db-13682b592da1",
   "metadata": {},
   "outputs": [],
   "source": [
    "# Example 3 String"
   ]
  },
  {
   "cell_type": "code",
   "execution_count": 7,
   "id": "d9dd329e-8ef8-436e-b1cb-08a78b57004d",
   "metadata": {},
   "outputs": [],
   "source": [
    "word = 'DiMaggio'"
   ]
  },
  {
   "cell_type": "code",
   "execution_count": 8,
   "id": "0c1b31a9-2fa2-4834-8b3d-a04cdf1cab38",
   "metadata": {},
   "outputs": [
    {
     "name": "stdout",
     "output_type": "stream",
     "text": [
      "0 D\n",
      "1 i\n",
      "2 M\n",
      "3 a\n",
      "4 g\n",
      "5 g\n",
      "6 i\n",
      "7 o\n"
     ]
    }
   ],
   "source": [
    "for index, letter in enumerate(word):\n",
    "    print(index, letter)"
   ]
  },
  {
   "cell_type": "code",
   "execution_count": 9,
   "id": "bc9a5c63-0487-4e88-95c4-175d8a7e3c02",
   "metadata": {},
   "outputs": [],
   "source": [
    "# Example 4 Tuples"
   ]
  },
  {
   "cell_type": "code",
   "execution_count": 10,
   "id": "28af7084-9611-4af0-a6ae-1fc9604144a2",
   "metadata": {},
   "outputs": [],
   "source": [
    "teams = ('Rays', 'Yankees', 'Red Sox')"
   ]
  },
  {
   "cell_type": "code",
   "execution_count": 11,
   "id": "a9256331-e8ac-45d3-a810-ae7cd458500a",
   "metadata": {},
   "outputs": [
    {
     "name": "stdout",
     "output_type": "stream",
     "text": [
      "0 Rays\n",
      "1 Yankees\n",
      "2 Red Sox\n"
     ]
    }
   ],
   "source": [
    "for index, team in enumerate(teams):\n",
    "    print(index, team)"
   ]
  },
  {
   "cell_type": "code",
   "execution_count": 12,
   "id": "c33ee77a-0101-4408-bbb3-29f56a1413ea",
   "metadata": {},
   "outputs": [],
   "source": [
    "# Example 5 Convert Enumerate into a list"
   ]
  },
  {
   "cell_type": "code",
   "execution_count": 13,
   "id": "a5bd93d3-a8f7-4646-9ba1-5a650a96179d",
   "metadata": {},
   "outputs": [],
   "source": [
    "numbers = [17, 27, 99]"
   ]
  },
  {
   "cell_type": "code",
   "execution_count": 14,
   "id": "c013381c-a302-49e1-99e4-4749261df199",
   "metadata": {},
   "outputs": [],
   "source": [
    "enumerate_list = list(enumerate(numbers))"
   ]
  },
  {
   "cell_type": "code",
   "execution_count": 15,
   "id": "177e848d-55d3-488d-a607-ca38d4c56589",
   "metadata": {},
   "outputs": [
    {
     "name": "stdout",
     "output_type": "stream",
     "text": [
      "[(0, 17), (1, 27), (2, 99)]\n"
     ]
    }
   ],
   "source": [
    "print(enumerate_list)"
   ]
  },
  {
   "cell_type": "code",
   "execution_count": 16,
   "id": "a1cc73f8-1596-4d23-b55e-f8f607c142b0",
   "metadata": {},
   "outputs": [],
   "source": [
    "# Example 6 enumerate dictionary keys"
   ]
  },
  {
   "cell_type": "code",
   "execution_count": 17,
   "id": "9c838c15-6d3d-4f37-82ad-53d0ff28ffd1",
   "metadata": {},
   "outputs": [],
   "source": [
    "dict = {'Ohtani': 17, 'Trout': 27, 'Judge': 99}"
   ]
  },
  {
   "cell_type": "code",
   "execution_count": 18,
   "id": "988aaa8e-5ef4-473f-9a17-055c271db81e",
   "metadata": {},
   "outputs": [
    {
     "name": "stdout",
     "output_type": "stream",
     "text": [
      "0 Ohtani 17\n",
      "1 Trout 27\n",
      "2 Judge 99\n"
     ]
    }
   ],
   "source": [
    "for index, key in enumerate(dict):\n",
    "    print(index, key, dict[key])"
   ]
  },
  {
   "cell_type": "code",
   "execution_count": 19,
   "id": "70aaa970-bdff-414a-8057-89aea38be77b",
   "metadata": {},
   "outputs": [],
   "source": [
    "# Example 7 Enumerate with list comprehension"
   ]
  },
  {
   "cell_type": "code",
   "execution_count": 20,
   "id": "79166e0c-bedb-43f3-ad62-3dad3c94e8cf",
   "metadata": {},
   "outputs": [],
   "source": [
    "numbers = [17, 27, 99]"
   ]
  },
  {
   "cell_type": "code",
   "execution_count": 21,
   "id": "3765e891-cb12-4c6f-bb3e-5ae476d65bf6",
   "metadata": {},
   "outputs": [],
   "source": [
    "indexed_numbers = [(index, number) for index, number in enumerate(numbers)]"
   ]
  },
  {
   "cell_type": "code",
   "execution_count": 22,
   "id": "cfd3e858-0e20-41e0-affa-93fde1e4dbcf",
   "metadata": {},
   "outputs": [
    {
     "name": "stdout",
     "output_type": "stream",
     "text": [
      "[(0, 17), (1, 27), (2, 99)]\n"
     ]
    }
   ],
   "source": [
    "print(indexed_numbers)"
   ]
  },
  {
   "cell_type": "code",
   "execution_count": 23,
   "id": "dcd12f0d-0e1c-4ed6-ad95-55df725b7937",
   "metadata": {},
   "outputs": [],
   "source": [
    "# Example 8 Enumerate with logic"
   ]
  },
  {
   "cell_type": "code",
   "execution_count": 24,
   "id": "711fc41e-10d6-446f-9ca2-c7f9a66364aa",
   "metadata": {},
   "outputs": [],
   "source": [
    "hr_hitters = ['Bonds', 'Aaron', 'Ruth', 'Pujols', 'Rodriguez']"
   ]
  },
  {
   "cell_type": "code",
   "execution_count": 25,
   "id": "a2d5b475-3efc-4983-96c9-d7d88bfd6e26",
   "metadata": {},
   "outputs": [
    {
     "name": "stdout",
     "output_type": "stream",
     "text": [
      "Even index 0: Bonds\n",
      "Even index 2: Ruth\n",
      "Even index 4: Rodriguez\n"
     ]
    }
   ],
   "source": [
    "for index, hitter in enumerate(hr_hitters):\n",
    "    if index % 2 == 0:\n",
    "        print(f\"Even index {index}: {hitter}\")"
   ]
  },
  {
   "cell_type": "code",
   "execution_count": 26,
   "id": "f2b291f2-3db8-4265-b3eb-a07fc092873a",
   "metadata": {},
   "outputs": [],
   "source": [
    "# Example 9 Enumerate with zip"
   ]
  },
  {
   "cell_type": "code",
   "execution_count": 27,
   "id": "8d8fcb77-4ca6-45f4-b72a-cc7202fcaafe",
   "metadata": {},
   "outputs": [],
   "source": [
    "names = ['Ohtani', 'Trout', 'Judge']"
   ]
  },
  {
   "cell_type": "code",
   "execution_count": 28,
   "id": "f82cc56a-8900-4a01-97dd-eb09f7c0fbdf",
   "metadata": {},
   "outputs": [],
   "source": [
    "numbers = [17, 27, 99]"
   ]
  },
  {
   "cell_type": "code",
   "execution_count": 29,
   "id": "6920a5bb-2f75-4b55-ba17-d3fe2ab2efab",
   "metadata": {},
   "outputs": [
    {
     "name": "stdout",
     "output_type": "stream",
     "text": [
      "0: Ohtani wears number: 17\n",
      "1: Trout wears number: 27\n",
      "2: Judge wears number: 99\n"
     ]
    }
   ],
   "source": [
    "for index, (names, numbers) in enumerate(zip(names, numbers)):\n",
    "    print(f\"{index}: {names} wears number: {numbers}\")"
   ]
  },
  {
   "cell_type": "code",
   "execution_count": 30,
   "id": "15db6109-45ad-465a-b4e8-6f0338d262ba",
   "metadata": {},
   "outputs": [],
   "source": [
    "# Example 10 Enumerate update items"
   ]
  },
  {
   "cell_type": "code",
   "execution_count": 31,
   "id": "73faaa2b-a4ee-4ad9-ae73-5711b4887e23",
   "metadata": {},
   "outputs": [],
   "source": [
    "hrs = [15, 21, 33]"
   ]
  },
  {
   "cell_type": "code",
   "execution_count": 32,
   "id": "381b1e55-64fc-4cf1-8f37-dd0fabf61418",
   "metadata": {},
   "outputs": [],
   "source": [
    "for index, value in enumerate(hrs):\n",
    "    hrs[index] = value * 2"
   ]
  },
  {
   "cell_type": "code",
   "execution_count": 33,
   "id": "4a4fc884-74f6-438e-9dc7-eb69efef968c",
   "metadata": {},
   "outputs": [
    {
     "name": "stdout",
     "output_type": "stream",
     "text": [
      "[30, 42, 66]\n"
     ]
    }
   ],
   "source": [
    "print(hrs)"
   ]
  },
  {
   "cell_type": "code",
   "execution_count": null,
   "id": "168e96ef-f573-4bc2-a22b-a885aba4a940",
   "metadata": {},
   "outputs": [],
   "source": []
  }
 ],
 "metadata": {
  "kernelspec": {
   "display_name": "Python 3 (ipykernel)",
   "language": "python",
   "name": "python3"
  },
  "language_info": {
   "codemirror_mode": {
    "name": "ipython",
    "version": 3
   },
   "file_extension": ".py",
   "mimetype": "text/x-python",
   "name": "python",
   "nbconvert_exporter": "python",
   "pygments_lexer": "ipython3",
   "version": "3.12.7"
  }
 },
 "nbformat": 4,
 "nbformat_minor": 5
}
